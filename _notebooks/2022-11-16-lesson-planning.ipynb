{
 "cells": [
  {
   "cell_type": "markdown",
   "metadata": {},
   "source": [
    "# Lesson Planning\n",
    "> Lesson planning for section 3.3 and 3.4.\n",
    "\n",
    "- toc: true \n",
    "- badges: true\n",
    "- comments: true\n",
    "- categories: [jupyter]"
   ]
  },
  {
   "cell_type": "markdown",
   "metadata": {},
   "source": [
    "##### LUKA: Section 3.3 Video #1.\n",
    "##### SAAVAN: Section 3.3 Video #2.\n",
    "##### ANTHONY: Section 3.3 Video #3.\n",
    "##### MATI: Section 3.4 Video #1.\n",
    "\n",
    "\n",
    "---"
   ]
  },
  {
   "cell_type": "markdown",
   "metadata": {},
   "source": [
    "## Ideas and the Video Paraphrased.\n",
    "##### Luka:\n",
    "(insert the  ideas, and the video paraphrased.)\n",
    "\n",
    "\n"
   ]
  },
  {
   "cell_type": "markdown",
   "metadata": {},
   "source": [
    "##### Saavan:\n",
    "(insert the  ideas, and the video paraphrased.)\n",
    "\n"
   ]
  },
  {
   "cell_type": "markdown",
   "metadata": {},
   "source": [
    "##### Anthony:\n",
    "Goal: Evaluate expression using arithmetic operator\n",
    "\n",
    "Arithmetic operator are language that use addition, subtraction, multiplication, division, and modulus operator.\n",
    "\n",
    "The order of the operation is the same as mathematic operation.\n",
    "\n",
    "Example of operator:\n",
    "a+b   grade+10\n",
    "\n",
    "multiplications are represent with *\n",
    "divisions are represent with /\n",
    "modulus are represent with MOD(all caps)\n",
    "\n",
    "Modulus operator give the a result of left over\n",
    "for example, 9 MOD 2. Since 9 divided by 2 is not a whole number. It will evaluate the left over with the closest whole number division which is 8.\n",
    "\n",
    "The order of arithmetic operator:\n",
    "Division, multiplication and MOD are the greater, then addition and subtraction\n",
    "\n",
    "For lesson planning: \n",
    "We can do a quiz with example similar to college board. Will we define num1,2,and 3, then put it into a operator with multiplication, addition, subtraction, division, and MOD.\n",
    "\n",
    "\n",
    "\n"
   ]
  },
  {
   "cell_type": "markdown",
   "metadata": {},
   "source": [
    "##### Mati:\n",
    "(insert the  ideas, and the video paraphrased.)\n",
    "\n",
    "---"
   ]
  },
  {
   "cell_type": "markdown",
   "metadata": {},
   "source": [
    "# Lesson Planning:"
   ]
  },
  {
   "cell_type": "markdown",
   "metadata": {},
   "source": []
  }
 ],
 "metadata": {
  "kernelspec": {
   "display_name": "Python 3.9.12 ('base')",
   "language": "python",
   "name": "python3"
  },
  "language_info": {
   "name": "python",
   "version": "3.9.12"
  },
  "orig_nbformat": 4,
  "vscode": {
   "interpreter": {
    "hash": "40fb0cd5d44f051881184c5210ed52312dabb6d62ace68d9106c589b91788473"
   }
  }
 },
 "nbformat": 4,
 "nbformat_minor": 2
}
