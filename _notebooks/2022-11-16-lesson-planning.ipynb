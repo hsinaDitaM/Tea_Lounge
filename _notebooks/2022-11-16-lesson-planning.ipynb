{
 "cells": [
  {
   "cell_type": "markdown",
   "metadata": {},
   "source": [
    "# Lesson Planning\n",
    "> Lesson planning for section 3.3 and 3.4.\n",
    "\n",
    "- toc: true \n",
    "- badges: true\n",
    "- comments: true\n",
    "- categories: [jupyter]"
   ]
  },
  {
   "cell_type": "markdown",
   "metadata": {},
   "source": [
    "##### LUKA: Section 3.3 Video #1.\n",
    "##### SAAVAN: Section 3.3 Video #2.\n",
    "##### ANTHONY: Section 3.3 Video #3.\n",
    "##### MATTY: Section 3.4 Video #1.\n",
    "\n",
    "\n",
    "---"
   ]
  },
  {
   "cell_type": "markdown",
   "metadata": {},
   "source": [
    "## Ideas and the Video Paraphrased.\n",
    "##### Luka:\n",
    "(insert the  ideas, and the video paraphrased.)\n",
    "- We are going to teach students about how to express an algorithm using sequencing without using a programming language.  \n",
    "- An algorithm is a finite set of instructions that accomplish a specific task \n",
    "- algorithm can be represented in a variety of ways including natural languages, diagrams, and pseudocode\n",
    "- Algorithms executed by programs are implemented using programming languages\n",
    "- Every algorithm can be constructed using combinations of sequencing, selection, and iteration\n",
    "- An algorithm is a set of instructions that help you achieve a result that you are expecting, like a recipe when you are cooking food\n",
    "- Algorithms are done in a sequence, also known as an order of doing something. example of this is when you wake up in the morning and the order that you get ready for school. \n",
    "- A selection allows an algorithm to make a decision based on if a condition is met, an example of this is when your car is out of fuel, you go to the gas station to fill your car, but if your car is full you wouldn't go to teh gas station. \n",
    "- An iteration is a loop and doing something again until a condition is met, like you put away your computer when you are finished with your work. \n",
    "- I would also show the example that is displayed on collegeboard and show which parts of it are sequencing, selection, and iteration\n",
    "- Show the example of the pseudocode that finds the largest number in a list of positive numbers\n",
    "- Then I would show the last example where the students need to find out where the different parts the sequencing, selection, and iteration are\n",
    "- Then students need to show where the sequencing, selection, and iterations are in the pseudocode\n",
    "- Recap about the what algorithms are and how they help us accomplish tasks and the differnt parts of algorithms. "
   ]
  },
  {
   "cell_type": "markdown",
   "metadata": {},
   "source": [
    "##### Saavan:\n",
    "(insert the  ideas, and the video paraphrased.)\n",
    "\n"
   ]
  },
  {
   "cell_type": "markdown",
   "metadata": {},
   "source": [
    "##### Anthony:\n",
    "(insert the  ideas, and the video paraphrased.)"
   ]
  },
  {
   "cell_type": "markdown",
   "metadata": {},
   "source": [
    "##### Matty:\n",
    "(insert the  ideas, and the video paraphrased.)\n",
    "\n",
    "---"
   ]
  },
  {
   "cell_type": "markdown",
   "metadata": {},
   "source": [
    "# Lesson Planning:"
   ]
  },
  {
   "cell_type": "markdown",
   "metadata": {},
   "source": [
    "Luka introducing the topic and the table of contents. we are going to present off a notebook that we make before hand. Luka, Saavan, and Antony will read out their parts of the assignment and explain the video in a short summery of each video from section 3.3. After they finish, we will do a fun teaching assignment where the students have to find the correct answer out of other 5 other incorrect answer. This will be five questions long. The student with the most right answer will get a pat on the shoulder. if there is a tie, their fate will be chosen by a tie-breaker question. after the game, Matty will read out his part of the assignment and explain the video in a short summery. After he finishes, we will play a word soup game where all of the vocabulary from section 3.4. The person with the most word found will also get a pat on the shoulder. "
   ]
  }
 ],
 "metadata": {
  "kernelspec": {
   "display_name": "Python 3.10.1 64-bit",
   "language": "python",
   "name": "python3"
  },
  "language_info": {
   "name": "python",
   "version": "3.7.3"
  },
  "orig_nbformat": 4,
  "vscode": {
   "interpreter": {
    "hash": "aee8b7b246df8f9039afb4144a1f6fd8d2ca17a180786b69acc140d282b71a49"
   }
  }
 },
 "nbformat": 4,
 "nbformat_minor": 2
}
