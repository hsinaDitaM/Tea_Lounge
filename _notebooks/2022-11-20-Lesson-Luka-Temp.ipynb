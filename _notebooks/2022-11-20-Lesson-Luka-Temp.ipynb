{
 "cells": [
  {
   "cell_type": "markdown",
   "metadata": {},
   "source": [
    "# Luka Temporary Lesson File\n",
    "> The lesson that we will be presenting to the class while teaching.\n",
    "\n",
    "- toc: true \n",
    "- badges: true\n",
    "- comments: true\n",
    "- categories: [wk2]"
   ]
  },
  {
   "cell_type": "markdown",
   "metadata": {},
   "source": [
    "# Lesson 3.3.1\n",
    "Goal: Express an algorithm that uses sequencing without using programming language.\n",
    "\n",
    "\n",
    "# What is an algorithms\n",
    "An algorithm is a finite set of instruction that accomplish a task, it can be expressed by natural language, diagrams, and various other ways.\n",
    "\n",
    "# What are the three parts of an algorithm?\n",
    "Sequencing, selection, and iteration.\n",
    "\n",
    "- Every algorithm can be created by a mixture of sequencing, selection, and iteration\n",
    "\n",
    "# What is a sequence\n",
    "A sequence is the order of how to do something to achieve a result, similarly to how you follow the instructions from a teacher. \n",
    "\n"
   ]
  }
 ],
 "metadata": {
  "kernelspec": {
   "display_name": "Python 3.9.12 ('base')",
   "language": "python",
   "name": "python3"
  },
  "language_info": {
   "name": "python",
   "version": "3.9.12"
  },
  "orig_nbformat": 4,
  "vscode": {
   "interpreter": {
    "hash": "647057b329c0d9024bd3a0786c24b4b9bd47f70804056596a3b82b98cd707b5b"
   }
  }
 },
 "nbformat": 4,
 "nbformat_minor": 2
}
