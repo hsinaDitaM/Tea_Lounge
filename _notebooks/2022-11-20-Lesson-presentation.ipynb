{
 "cells": [
  {
   "cell_type": "markdown",
   "metadata": {},
   "source": [
    "# Lesson 3.3 & 3.4\n",
    "> The lesson that we will be presenting to the class while teaching.\n",
    "\n",
    "- toc: true \n",
    "- badges: true\n",
    "- comments: true\n",
    "- categories: [wk2]"
   ]
  },
  {
   "cell_type": "markdown",
   "metadata": {},
   "source": [
    "# Lesson 3.3"
   ]
  },
  {
   "cell_type": "markdown",
   "metadata": {},
   "source": [
    "### Luka\n",
    "# Lesson 3.3.1\n",
    "\n",
    "#### What is the goal?\n",
    "- Express an algorithm that uses sequencing without using programming language.\n",
    "\n",
    "\n",
    "#### What is an algorithms?\n",
    "- An algorithm is a finite set of instruction that accomplish a task, it can be expressed by natural language, diagrams, and various other ways.\n",
    "\n",
    "#### What are the three parts of an algorithm?\n",
    "- Sequencing, selection, and iteration.\n",
    "\n",
    "- Every algorithm can be created by a mixture of sequencing, selection, and iteration\n",
    "\n",
    "#### What is a sequence?\n",
    "- A sequence is the order of how to do something to achieve a result, similarly to how you follow the instructions from a teacher. \n",
    "\n",
    "![ImageOne](../images/ScreenShot2022-11-28at6.10.59PM.png)\n",
    "\n",
    "#### What is a selection?\n",
    "- A selection allows an algorithm to make a decision based on if a condition is met, an example of this is when your car is out of fuel, you go to the gas station to fill your car, but if your car is full you wouldn't go to the gas station.\n",
    "\n",
    "\n",
    "![ImageTwo](../images/ScreenShot2022-11-28at6.11.33PM.png)\n",
    "\n",
    "#### What is a iteration?\n",
    "- An iteration is a loop and doing something again until a condition is met, like you put away your computer when you are finished with your work.\n",
    "\n",
    "\n",
    "![ImageThree](../images/ScreenShot2022-11-28at6.15.39PM.png)\n",
    "\n",
    "#### Hacks\n",
    "\n",
    "\n",
    "- You will describe the different parts of an algorithm, sequencing, selection, and iteration in the image below. \n",
    "\n",
    "\n",
    "![ImageFour](../images/ScreenShot2022-11-28at6.18.49PM.png)\n",
    "- sequencing: \n",
    "- Selection: \n",
    "- Iteration: "
   ]
  },
  {
   "cell_type": "markdown",
   "metadata": {},
   "source": [
    "### Saavan\n",
    "#### Mathematical Expressions\n",
    "\n",
    "How do we represent a step-by-step algorithmic process using sequential code statements? \n",
    "- First off what is a sequential code statement?\n",
    "    - Sequential statements are used in processes to specify how signals are assigned. The process is executed in order as a whole. After all the sequential statements in the process are executed the signals are assigned their new values. They execute in the order in which they appear in the process.\n",
    "- Sequencing - First step to do- Second step to do - third step to do\n",
    "    - Followed in the order that the code comes in. \n",
    "    - You can put numerical values within variables. You can also put variable values inside other variables\n",
    "        - Ex. grade - 82\n",
    "        - Ex. highScore - currentScore\n",
    "    - Can also store results of operations inside of a variable\n",
    "        - Ex. name - firstName + lastName\n",
    "    - Can store results of a procedure call\n",
    "        - Average - calcAverage (10,20,30) \n",
    "    - Order of operations very important\n",
    "        - Ex. grade1 - 10\n",
    "        - Grade 2 - grade 1\n",
    "- Example Problem - calculate and display average of 25, 32, 42\n",
    "    - Num1 - 25\n",
    "    - Num2 -32\n",
    "    - Num3 - 42\n",
    "    - Average - (num1 + num2 + num3)/3\n",
    "    - DISPLAY (Average)\n",
    "\n",
    "\n",
    "\n"
   ]
  },
  {
   "cell_type": "markdown",
   "metadata": {},
   "source": [
    "### Antony\n",
    "Goal: Evaluate expression using arithmetic operator.\n",
    "\n",
    "Arithmetic operator are language that use addition, subtraction, multiplication, division, and modulus operator.\n",
    "\n",
    "The order of arithmetic operation is the same with mathematic operation(Subtraction first).\n",
    "\n",
    "##### Examples of arithmetic operators:\n",
    "-Addition: a+b\n",
    "-Subtraction: a-b\n",
    "-Multiplication: a*b\n",
    "-Division: a/b\n",
    "-Modulus: a MOD b\n",
    "(a and b can be string or number)\n",
    "\n",
    "##### Examples of arithmetic operator in code:\n",
    "\n",
    "\n"
   ]
  },
  {
   "cell_type": "code",
   "execution_count": 2,
   "metadata": {},
   "outputs": [
    {
     "data": {
      "text/plain": [
       "20.0"
      ]
     },
     "execution_count": 2,
     "metadata": {},
     "output_type": "execute_result"
    }
   ],
   "source": [
    "10 + 5 * 8 / 4"
   ]
  },
  {
   "cell_type": "code",
   "execution_count": 3,
   "metadata": {},
   "outputs": [
    {
     "data": {
      "text/plain": [
       "30.0"
      ]
     },
     "execution_count": 3,
     "metadata": {},
     "output_type": "execute_result"
    }
   ],
   "source": [
    "(10+5) * 8 / 4"
   ]
  },
  {
   "cell_type": "code",
   "execution_count": 4,
   "metadata": {},
   "outputs": [
    {
     "name": "stdout",
     "output_type": "stream",
     "text": [
      "22\n"
     ]
    }
   ],
   "source": [
    "num1 = 10\n",
    "num2 = 5\n",
    "num3 = 7\n",
    "result = num1 + num2 + num3\n",
    "print(result)"
   ]
  },
  {
   "cell_type": "markdown",
   "metadata": {},
   "source": [
    "Modulus operator divides the given numerator by the denominator to find a result,which is finding the remainder for the division(remainder has to an integer).\n",
    "\n",
    "Operator with MOD have the same sequence with multiplication and division. In python and most programming languages, the syntax of MOD is %\n",
    "##### Examples with use of MOD:"
   ]
  },
  {
   "cell_type": "code",
   "execution_count": 6,
   "metadata": {},
   "outputs": [
    {
     "name": "stdout",
     "output_type": "stream",
     "text": [
      "29.0\n"
     ]
    }
   ],
   "source": [
    "num1 = 12\n",
    "num2 = 25\n",
    "num3 = 14\n",
    "result = num1 / 4 * num3 + 9 % 2 - num3\n",
    "print(result)"
   ]
  },
  {
   "cell_type": "code",
   "execution_count": 11,
   "metadata": {},
   "outputs": [
    {
     "name": "stdout",
     "output_type": "stream",
     "text": [
      "10\n"
     ]
    }
   ],
   "source": [
    "num1 = 12\n",
    "num2 = 25\n",
    "num3 = 14\n",
    "result = num2 % num1 * (num3+6) - 10\n",
    "print(result)"
   ]
  },
  {
   "cell_type": "markdown",
   "metadata": {},
   "source": [
    "#### Hack\n",
    "-Evaluate the arithmetic expression or this code:\n"
   ]
  },
  {
   "cell_type": "code",
   "execution_count": 18,
   "metadata": {},
   "outputs": [],
   "source": [
    "num1 = 5\n",
    "num2 = num1 * 3\n",
    "num3 = num2 / num1 * (9 % 2) * 4\n",
    "result = (num3 % num1 + num2) % num3 * 3 / 5\n"
   ]
  },
  {
   "cell_type": "markdown",
   "metadata": {},
   "source": [
    "#### HACK for 3.3! CROSS WORD PUZZLE!\n",
    "\n",
    "![crossword][def]\n",
    "\n",
    "[def]: /Tea_Lounge/images/cw.png\n",
    "\n",
    "example of how to do it in your blog:\n",
    "\n",
    "7 across - Baloney\n"
   ]
  },
  {
   "cell_type": "markdown",
   "metadata": {},
   "source": [
    "# Lesson 3.4"
   ]
  },
  {
   "cell_type": "markdown",
   "metadata": {},
   "source": [
    "### Matty\n",
    "Goal: Evaluate expression that manipulate strings\n",
    "\n",
    "String concatenation joins two or more strings end-to-end to make a new string\n",
    "\n",
    "A substring is part of an existing string\n",
    "\n",
    "##### Strings:\n",
    "- Ordered sequences of characters\n",
    "- some procedures may exist that can be used with strings\n",
    "- each language has its own procedures, methods, and functions. \n",
    "\n",
    "Fun fact: Space bar is also a character.\n",
    "\n",
    "##### Examples of strings in pseudocode:\n",
    "- len (str)\n",
    "    - returns the number of character is str\n",
    "    - len(\"hello\") returns 5\n",
    "\n",
    "- concat (str1, str2)\n",
    "    - returns a single string consisting of str1 followed by str 2\n",
    "    - concat(\"hello\",\"world\") return 'hello world'\n",
    "\n",
    "- substring (str1, str2, length)\n",
    "    - returns a substring of consecutive character from str1, starting the character at position 'start' and containing 'length' character\n",
    "    - substring (\"hello\",\"world\", 4,5) returns 'lo wor'\n",
    "\n",
    "\n",
    "\n",
    "---"
   ]
  },
  {
   "cell_type": "markdown",
   "metadata": {},
   "source": [
    "This is an example of a len substring in python:"
   ]
  },
  {
   "cell_type": "code",
   "execution_count": 8,
   "metadata": {},
   "outputs": [
    {
     "data": {
      "text/plain": [
       "10"
      ]
     },
     "execution_count": 8,
     "metadata": {},
     "output_type": "execute_result"
    }
   ],
   "source": [
    "\n",
    "len(\"HelloWorld\")\n"
   ]
  },
  {
   "cell_type": "markdown",
   "metadata": {},
   "source": [
    "This is an example of a concat string in python:"
   ]
  },
  {
   "cell_type": "code",
   "execution_count": 2,
   "metadata": {},
   "outputs": [
    {
     "name": "stdout",
     "output_type": "stream",
     "text": [
      "HelloWorld\n"
     ]
    }
   ],
   "source": [
    "\n",
    "string1 = \"Hello\"\n",
    "string2 = \"World\"\n",
    "print(string1 + string2)\n"
   ]
  },
  {
   "cell_type": "markdown",
   "metadata": {},
   "source": [
    "or:"
   ]
  },
  {
   "cell_type": "code",
   "execution_count": 1,
   "metadata": {},
   "outputs": [
    {
     "name": "stdout",
     "output_type": "stream",
     "text": [
      "Hello World\n"
     ]
    }
   ],
   "source": [
    "\n",
    "string1 = \"Hello\"\n",
    "print(string1, \"World\")\n"
   ]
  },
  {
   "cell_type": "markdown",
   "metadata": {},
   "source": [
    "This is an example of a substring string in python:"
   ]
  },
  {
   "cell_type": "code",
   "execution_count": 5,
   "metadata": {},
   "outputs": [
    {
     "name": "stdout",
     "output_type": "stream",
     "text": [
      "lloW\n"
     ]
    }
   ],
   "source": [
    "\n",
    "string = \"HelloWorld\"\n",
    "print(string[2:6])\n"
   ]
  },
  {
   "cell_type": "markdown",
   "metadata": {},
   "source": [
    "\"Challenge\" problem:\n",
    "\n",
    "(The first to answer the output.) "
   ]
  },
  {
   "cell_type": "code",
   "execution_count": null,
   "metadata": {},
   "outputs": [],
   "source": [
    "\n",
    "string1 = \"degree\"\n",
    "string2 = \" passenger\"\n",
    "FinalString = string1 + string2\n",
    "print(FinalString[2:9])\n",
    "print(len(FinalString))\n",
    "print(len(FinalString[2:9]))\n"
   ]
  },
  {
   "cell_type": "markdown",
   "metadata": {},
   "source": [
    ">There are many more functions that deal with strings, but these three are the ones that college board want you to learn. if you want to learn more about them, a google search will do the trick. \n",
    " "
   ]
  },
  {
   "cell_type": "markdown",
   "metadata": {},
   "source": [
    "#### HACK!\n",
    "\n",
    "[Link to the funnest activity ever!!!!](https://hsinaditam.github.io/Tea_Lounge/wk2/2022/11/25/3.4-quiz.html)"
   ]
  },
  {
   "cell_type": "markdown",
   "metadata": {},
   "source": [
    "---\n",
    "#### HACK! REVIEW\n",
    "\n",
    "[Hack #1](https://hsinaditam.github.io/Tea_Lounge/wk2/2022/11/20/Lesson-presentation.html#Hacks)\n",
    "\n",
    "[Hack #2](https://hsinaditam.github.io/Tea_Lounge/wk2/2022/11/20/Lesson-presentation.html#HACK!-CROSS-WORD-PUZZLE!)\n",
    "\n",
    "[Hack #3](https://hsinaditam.github.io/Tea_Lounge/wk2/2022/11/20/Lesson-presentation.html#HACK!)\n",
    "\n",
    "Make a new blog post and finish all of the hacks on there and submit it to the review ticket."
   ]
  }
 ],
 "metadata": {
  "kernelspec": {
   "display_name": "Python 3.7.3 64-bit",
   "language": "python",
   "name": "python3"
  },
  "language_info": {
   "codemirror_mode": {
    "name": "ipython",
    "version": 3
   },
   "file_extension": ".py",
   "mimetype": "text/x-python",
   "name": "python",
   "nbconvert_exporter": "python",
   "pygments_lexer": "ipython3",
   "version": "3.7.3"
  },
  "orig_nbformat": 4,
  "vscode": {
   "interpreter": {
    "hash": "aee8b7b246df8f9039afb4144a1f6fd8d2ca17a180786b69acc140d282b71a49"
   }
  }
 },
 "nbformat": 4,
 "nbformat_minor": 2
}
