{
 "cells": [
  {
   "cell_type": "markdown",
   "metadata": {},
   "source": [
    "# Lesson 3.3 & 3.4\n",
    "> The lesson that we will be presenting to the class while teaching.\n",
    "\n",
    "- toc: true \n",
    "- badges: true\n",
    "- comments: true\n",
    "- categories: [wk2]"
   ]
  },
  {
   "cell_type": "markdown",
   "metadata": {},
   "source": [
    "# Lesson 3.3"
   ]
  },
  {
   "cell_type": "markdown",
   "metadata": {},
   "source": [
    "### Luka\n",
    "# Lesson 3.3.1\n",
    "\n",
    "#### What is the goal?\n",
    "- Express an algorithm that uses sequencing without using programming language.\n",
    "\n",
    "\n",
    "#### What is an algorithms?\n",
    "- An algorithm is a finite set of instruction that accomplish a task, it can be expressed by natural language, diagrams, and various other ways.\n",
    "\n",
    "#### What are the three parts of an algorithm?\n",
    "- Sequencing, selection, and iteration.\n",
    "\n",
    "- Every algorithm can be created by a mixture of sequencing, selection, and iteration\n",
    "\n",
    "#### What is a sequence?\n",
    "- A sequence is the order of how to do something to achieve a result, similarly to how you follow the instructions from a teacher. \n",
    "\n",
    "![ImageOne](../images/ScreenShot2022-11-28at6.10.59PM.png)\n",
    "\n",
    "#### What is a selection?\n",
    "- A selection allows an algorithm to make a decision based on if a condition is met, an example of this is when your car is out of fuel, you go to the gas station to fill your car, but if your car is full you wouldn't go to the gas station.\n",
    "\n",
    "\n",
    "![ImageTwo](../images/ScreenShot2022-11-28at6.11.33PM.png)\n",
    "\n",
    "#### What is a iteration?\n",
    "- An iteration is a loop and doing something again until a condition is met, like you put away your computer when you are finished with your work.\n",
    "\n",
    "\n",
    "![ImageThree](../images/ScreenShot2022-11-28at6.15.39PM.png)\n",
    "\n",
    "#### Hacks\n",
    "\n",
    "\n",
    "- You will describe the different parts of an algorithm, sequencing, selection, and iteration in the image below. \n",
    "\n",
    "\n",
    "![ImageFour](../images/ScreenShot2022-11-28at6.15.39PM.png)\n",
    "\n",
    "##### Answer below\n",
    "- sequencing: \n",
    "- Selection: \n",
    "- Iteration: "
   ]
  },
  {
   "cell_type": "markdown",
   "metadata": {},
   "source": [
    "### Saavan\n",
    "add the lesson here.\n"
   ]
  },
  {
   "cell_type": "markdown",
   "metadata": {},
   "source": [
    "### Antony\n",
    "add the lesson here\n"
   ]
  },
  {
   "cell_type": "markdown",
   "metadata": {},
   "source": [
    "#### Fun Activity!!!!1!!\n",
    "\n",
    "\n",
    "The person with the most correct answers will receive a price."
   ]
  },
  {
   "cell_type": "markdown",
   "metadata": {},
   "source": [
    "# Lesson 3.4"
   ]
  },
  {
   "cell_type": "markdown",
   "metadata": {},
   "source": [
    "### Matty\n",
    "Goal: Evaluate expression that manipulate strings\n",
    "\n",
    "String concatenation joins two or more strings end-to-end to make a new string\n",
    "\n",
    "A substring is part of an existing string\n",
    "\n",
    "##### Strings:\n",
    "- Ordered sequences of characters\n",
    "- some procedures may exist that can be used with strings\n",
    "- each language has its own procedures, methods, and functions. \n",
    "\n",
    "Fun fact: Space bar is also a character.\n",
    "\n",
    "##### Examples of strings in pseudocode:\n",
    "- len (str)\n",
    "    - returns the number of character is str\n",
    "    - len(\"hello\") returns 5\n",
    "\n",
    "- concat (str1, str2)\n",
    "    - returns a single string consisting of str1 followed by str 2\n",
    "    - concat(\"hello\",\"world\") return 'hello world'\n",
    "\n",
    "- substring (str1, str2, length)\n",
    "    - returns a substring of consecutive character from str1, starting the character at position 'start' and containing 'length' character\n",
    "    - substring (\"hello\",\"world\", 4,5) returns 'lo wor'\n",
    "\n",
    "\n",
    "\n",
    "---"
   ]
  },
  {
   "cell_type": "markdown",
   "metadata": {},
   "source": [
    "This is an example of a len substring in python:"
   ]
  },
  {
   "cell_type": "code",
   "execution_count": 8,
   "metadata": {},
   "outputs": [
    {
     "data": {
      "text/plain": [
       "10"
      ]
     },
     "execution_count": 8,
     "metadata": {},
     "output_type": "execute_result"
    }
   ],
   "source": [
    "\n",
    "len(\"HelloWorld\")\n"
   ]
  },
  {
   "cell_type": "markdown",
   "metadata": {},
   "source": [
    "This is an example of a concat string in python:"
   ]
  },
  {
   "cell_type": "code",
   "execution_count": 2,
   "metadata": {},
   "outputs": [
    {
     "name": "stdout",
     "output_type": "stream",
     "text": [
      "HelloWorld\n"
     ]
    }
   ],
   "source": [
    "\n",
    "string1 = \"Hello\"\n",
    "string2 = \"World\"\n",
    "print(string1 + string2)\n"
   ]
  },
  {
   "cell_type": "markdown",
   "metadata": {},
   "source": [
    "or:"
   ]
  },
  {
   "cell_type": "code",
   "execution_count": 1,
   "metadata": {},
   "outputs": [
    {
     "name": "stdout",
     "output_type": "stream",
     "text": [
      "Hello World\n"
     ]
    }
   ],
   "source": [
    "\n",
    "string1 = \"Hello\"\n",
    "print(string1, \"World\")\n"
   ]
  },
  {
   "cell_type": "markdown",
   "metadata": {},
   "source": [
    "This is an example of a substring string in python:"
   ]
  },
  {
   "cell_type": "code",
   "execution_count": 5,
   "metadata": {},
   "outputs": [
    {
     "name": "stdout",
     "output_type": "stream",
     "text": [
      "lloW\n"
     ]
    }
   ],
   "source": [
    "\n",
    "string = \"HelloWorld\"\n",
    "print(string[2:6])\n"
   ]
  },
  {
   "cell_type": "markdown",
   "metadata": {},
   "source": [
    "\"Challenge\" problem:\n",
    "\n",
    "(The first to answer the output.) "
   ]
  },
  {
   "cell_type": "code",
   "execution_count": null,
   "metadata": {},
   "outputs": [],
   "source": [
    "\n",
    "string1 = \"degree\"\n",
    "string2 = \" passenger\"\n",
    "FinalString = string1 + string2\n",
    "print(FinalString[2:9])\n",
    "print(len(FinalString))\n",
    "print(len(FinalString[2:9]))\n"
   ]
  },
  {
   "cell_type": "markdown",
   "metadata": {},
   "source": [
    ">There are many more functions that deal with strings, but these three are the ones that college board want you ro learn. if you want to learn more about them, a google search will do the trick. \n",
    " "
   ]
  },
  {
   "cell_type": "markdown",
   "metadata": {},
   "source": [
    "#### ANother fun Activity!\n",
    "\n",
    "[Link to the funnest activity ever!!!!](https://hsinaditam.github.io/Tea_Lounge/wk2/2022/11/25/3.4-quiz.html)"
   ]
  }
 ],
 "metadata": {
  "kernelspec": {
   "display_name": "Python 3.10.1 64-bit",
   "language": "python",
   "name": "python3"
  },
  "language_info": {
   "codemirror_mode": {
    "name": "ipython",
    "version": 3
   },
   "file_extension": ".py",
   "mimetype": "text/x-python",
   "name": "python",
   "nbconvert_exporter": "python",
   "pygments_lexer": "ipython3",
   "version": "3.10.1"
  },
  "orig_nbformat": 4,
  "vscode": {
   "interpreter": {
    "hash": "aee8b7b246df8f9039afb4144a1f6fd8d2ca17a180786b69acc140d282b71a49"
   }
  }
 },
 "nbformat": 4,
 "nbformat_minor": 2
}
