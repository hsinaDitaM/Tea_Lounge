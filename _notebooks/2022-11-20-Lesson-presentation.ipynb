{
 "cells": [
  {
   "cell_type": "markdown",
   "metadata": {},
   "source": [
    "# Lesson Presentation\n",
    "> The Presentation that we will be presenting to the class while teaching.\n",
    "\n",
    "- toc: true \n",
    "- badges: true\n",
    "- comments: true\n",
    "- categories: [wk2]"
   ]
  },
  {
   "cell_type": "markdown",
   "metadata": {},
   "source": [
    "# Lesson 3.3"
   ]
  },
  {
   "cell_type": "markdown",
   "metadata": {},
   "source": [
    "### Luka\n",
    "add the lesson here."
   ]
  },
  {
   "cell_type": "markdown",
   "metadata": {},
   "source": [
    "### Saavan\n",
    "add the lesson here.\n"
   ]
  },
  {
   "cell_type": "markdown",
   "metadata": {},
   "source": [
    "### Antony\n",
    "add the lesson here\n"
   ]
  },
  {
   "cell_type": "markdown",
   "metadata": {},
   "source": [
    "### Fun Activity!!!!1!!\n",
    "[Unit 3.3 Quiz!!](https://replit.com/@MatiDanish/APCSP33Quiz)\n",
    "\n",
    "The person with the most correct answers will receive a price."
   ]
  },
  {
   "cell_type": "markdown",
   "metadata": {},
   "source": [
    "# Lesson 3.4"
   ]
  },
  {
   "cell_type": "markdown",
   "metadata": {},
   "source": [
    "### Matty\n",
    "Goal: Evaluate expression that manipulate strings\n",
    "\n",
    "String concatenation joins two or more strings end-to-end to make a new string\n",
    "\n",
    "A substring is part of an existing string\n",
    "\n",
    "##### Strings:\n",
    "- Ordered sequences of characters\n",
    "- some procedures may exist that can be used with strings\n",
    "- each language has its own procedures, methods, and functions. \n",
    "Fun fact: Space bar is also a character.\n",
    "\n",
    "##### Examples of strings:\n",
    "- len (str)\n",
    "    - returns the number of character is str\n",
    "    - len(\"hello\") returns 5\n",
    "\n",
    "- concat (str1, str2)\n",
    "    - returns a single string consisting of str1 followed by str 2\n",
    "    - concat(\"hello\",\"world\") return hello world\n",
    "\n",
    "- substring (str1, str2, length)\n",
    "    - returns a substring of consecutive character from str1, starting the character at position 'start' and containing 'length' character\n",
    "    - substring (\"hello\",\"world\", 4,2) returns hell wo\n",
    "\n",
    "\n",
    "\n",
    "---"
   ]
  },
  {
   "cell_type": "markdown",
   "metadata": {},
   "source": [
    "This is an example of a len substring in python:"
   ]
  },
  {
   "cell_type": "code",
   "execution_count": 8,
   "metadata": {},
   "outputs": [
    {
     "data": {
      "text/plain": [
       "10"
      ]
     },
     "execution_count": 8,
     "metadata": {},
     "output_type": "execute_result"
    }
   ],
   "source": [
    "len(\"HelloWorld\")"
   ]
  },
  {
   "cell_type": "markdown",
   "metadata": {},
   "source": [
    "This is an example of a concat string in python:"
   ]
  },
  {
   "cell_type": "code",
   "execution_count": 7,
   "metadata": {},
   "outputs": [
    {
     "name": "stdout",
     "output_type": "stream",
     "text": [
      "HelloWorld\n"
     ]
    }
   ],
   "source": [
    "string1 = \"Hello\"\n",
    "string2 = \"World\"\n",
    "FinalString = string1 + string2\n",
    "print(FinalString)\n"
   ]
  },
  {
   "cell_type": "markdown",
   "metadata": {},
   "source": [
    "This is an example of a substring string in python:"
   ]
  },
  {
   "cell_type": "code",
   "execution_count": 5,
   "metadata": {},
   "outputs": [
    {
     "name": "stdout",
     "output_type": "stream",
     "text": [
      "lloW\n"
     ]
    }
   ],
   "source": [
    "string = \"HelloWorld\"\n",
    "print(string[2:6])"
   ]
  },
  {
   "cell_type": "markdown",
   "metadata": {},
   "source": [
    "\"Challenge\" problem:\n",
    "\n",
    "(The first to answer the output.) "
   ]
  },
  {
   "cell_type": "code",
   "execution_count": null,
   "metadata": {},
   "outputs": [],
   "source": [
    "string1 = \"degree\"\n",
    "string2 = \" passenger\"\n",
    "FinalString = string1 + string2\n",
    "print(FinalString[2:9])\n",
    "print(len(FinalString))\n",
    "print(len(FinalString[2:9]))\n",
    "\n",
    " "
   ]
  }
 ],
 "metadata": {
  "kernelspec": {
   "display_name": "Python 3.10.1 64-bit",
   "language": "python",
   "name": "python3"
  },
  "language_info": {
   "codemirror_mode": {
    "name": "ipython",
    "version": 3
   },
   "file_extension": ".py",
   "mimetype": "text/x-python",
   "name": "python",
   "nbconvert_exporter": "python",
   "pygments_lexer": "ipython3",
   "version": "3.10.1"
  },
  "orig_nbformat": 4,
  "vscode": {
   "interpreter": {
    "hash": "aee8b7b246df8f9039afb4144a1f6fd8d2ca17a180786b69acc140d282b71a49"
   }
  }
 },
 "nbformat": 4,
 "nbformat_minor": 2
}
