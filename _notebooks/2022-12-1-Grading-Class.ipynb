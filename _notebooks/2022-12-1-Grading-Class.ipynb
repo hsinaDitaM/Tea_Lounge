{
 "cells": [
  {
   "cell_type": "markdown",
   "metadata": {},
   "source": [
    "# Grades for 3.3 and 3.4\n",
    "- toc: true\n",
    "- badges: true\n",
    "- comments: true\n"
   ]
  },
  {
   "cell_type": "markdown",
   "metadata": {},
   "source": [
    "| Student           | grade |\n",
    "| ----------------- | ----- |\n",
    "| Liav Bar        - | 0.9   |\n",
    "| Steven Zhu      - | 0.9   |\n",
    "| Taiyo Iwazaki   - | 0.9   |\n",
    "| Alexa Carlson   - | 0.9   |\n",
    "| Ava Carlson     - | 0.9   |\n",
    "| Lydia Cho       - | 0.9   |\n",
    "| Nikhil Chakavartula- | 1 (detailed) |\n",
    "| Sri Sri Kotturi - | 0.9   |\n",
    "| Jake Warren     - | 0.95  |\n",
    "| Finn Carpenters - | 0.9   |\n",
    "| Shruthi         - | 0.9   |\n",
    "| Claire Zhao     - | 0.9   |\n",
    "| Annika Liao     - | 0.9   |\n",
    "| Grace Wang      - | 0.9   |\n",
    "| Claire Chen     - | 0.9   |\n",
    "| Nathaniel Capule- | 0.9   |\n",
    "| Ederick Wong    - | 0.9   |\n",
    "| Noor Bijapur    - | 1 (Very Detailed)   |\n",
    "| Kaiden Do       - | 0.9   |\n",
    "| Luna iwazaki    - | 0.9   |\n",
    "| Parav           - | 0.9   |\n",
    "| Alex Kumar      - | 1 (detailed)  |\n",
    "| Paaras Purohit    - | 0.9  |\n",
    "| David       - | 0.9   |\n",
    "| safin singh       - | 1 (detailed)   |\n",
    "| Amay Advani      - | 1 (detailed)   |\n",
    "| Yasha Khoshini      - | 1 (bloged and detailed)   |\n",
    "| Kush Sirohi- | 0.8  (late) |\n",
    "| Eathan Thran     - | 0.9   |\n",
    "| Shruthi     - | 0.9   |\n",
    "\n"
   ]
  }
 ],
 "metadata": {
  "kernelspec": {
   "display_name": "Python 3.10.1 64-bit",
   "language": "python",
   "name": "python3"
  },
  "language_info": {
   "name": "python",
   "version": "3.10.1"
  },
  "orig_nbformat": 4,
  "vscode": {
   "interpreter": {
    "hash": "aee8b7b246df8f9039afb4144a1f6fd8d2ca17a180786b69acc140d282b71a49"
   }
  }
 },
 "nbformat": 4,
 "nbformat_minor": 2
}
