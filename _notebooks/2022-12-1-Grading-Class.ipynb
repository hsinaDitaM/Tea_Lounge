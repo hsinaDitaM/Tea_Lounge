{
 "cells": [
  {
   "cell_type": "markdown",
   "metadata": {},
   "source": [
    "# 3.1 and 3.2 student lesson\n",
    "- toc: true\n",
    "- badges: true\n",
    "- comments: true\n"
   ]
  },
  {
   "cell_type": "markdown",
   "metadata": {},
   "source": [
    "| Student      | grade |\n",
    "| ------------ | ----- |\n",
    "| Liav Bar   - | 0.9   |\n",
    "| Steven Zhu - | 0.9   |\n",
    "| Taiyo Iwazaki   - | 0.9   |\n",
    "| Alexa Carlson   - | 0.9   |\n",
    "| Ava Carlson   - | 0.9   |\n",
    "| Lydia Cho   - | 0.9   |\n",
    "| Sri Sri Kotturi   - | 0.9   |\n",
    "| Jake Warren   - | 0.95   |\n",
    "| Finn Carpenters   - | 0.9   |\n",
    "| Shruthi   - | 0.9   |\n",
    "| Claire Zhao   - | 0.9   |\n",
    "| Annika Liao   - | 0.8 (missing hack 4)   |\n",
    "| Grace Wang   - | 0.8 (missing crossword puzzle)   |\n",
    "| Claire Chen   - | 0.8 (missing quiz)   |\n",
    "| Nathaniel Capule   - | 0.9   |\n",
    "| Ederick Wong   - | 0.9   |\n",
    "| Noor Bijapur   - | 1 (Very Detailed)   |\n",
    "| Kaiden Do   - | 0 (Cannot open)   |\n",
    "| Luna iwazaki   - | 0.9   |\n",
    "| Parav   - | 0.9   |\n",
    "| Alex Kumar   - | 0 (Cannot open)   |"
   ]
  }
 ],
 "metadata": {
  "kernelspec": {
   "display_name": "Python 3.9.12 ('base')",
   "language": "python",
   "name": "python3"
  },
  "language_info": {
   "name": "python",
   "version": "3.9.12"
  },
  "orig_nbformat": 4,
  "vscode": {
   "interpreter": {
    "hash": "647057b329c0d9024bd3a0786c24b4b9bd47f70804056596a3b82b98cd707b5b"
   }
  }
 },
 "nbformat": 4,
 "nbformat_minor": 2
}
